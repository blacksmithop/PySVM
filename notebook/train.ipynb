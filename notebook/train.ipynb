{
 "cells": [
  {
   "cell_type": "markdown",
   "metadata": {},
   "source": [
    "|imports|\n",
    "|---|"
   ]
  },
  {
   "cell_type": "code",
   "execution_count": 2,
   "metadata": {},
   "outputs": [],
   "source": [
    "import numpy as np\n",
    "import pandas as pd\n",
    "\n",
    "from sklearn.feature_extraction.text import CountVectorizer\n",
    "from sklearn.metrics import confusion_matrix, accuracy_score\n",
    "from sklearn.model_selection import train_test_split\n",
    "from sklearn.feature_extraction.text import TfidfTransformer\n",
    "from sklearn.linear_model import SGDClassifier\n",
    "from sklearn.naive_bayes import MultinomialNB\n",
    "from sklearn.pipeline import Pipeline\n",
    "from sklearn import metrics\n",
    "\n",
    "import pickle\n",
    "import os\n",
    "\n",
    "from nltk import word_tokenize"
   ]
  },
  {
   "cell_type": "markdown",
   "metadata": {},
   "source": [
    "|Change directory|\n",
    "|---|"
   ]
  },
  {
   "cell_type": "code",
   "execution_count": 11,
   "metadata": {},
   "outputs": [
    {
     "data": {
      "text/plain": [
       "'c:\\\\Users\\\\abhinav.m\\\\Desktop\\\\abhi\\\\project\\\\DoctorTalkAnalyzer\\\\data'"
      ]
     },
     "execution_count": 11,
     "metadata": {},
     "output_type": "execute_result"
    }
   ],
   "source": [
    "# change dir to /data where all our files reside\n",
    "os.getcwd()\n",
    "os.chdir(\"../data\")"
   ]
  },
  {
   "cell_type": "code",
   "execution_count": 8,
   "metadata": {},
   "outputs": [
    {
     "data": {
      "text/plain": [
       "'c:\\\\Users\\\\abhinav.m\\\\Desktop\\\\abhi\\\\project\\\\DoctorTalkAnalyzer\\\\data'"
      ]
     },
     "execution_count": 8,
     "metadata": {},
     "output_type": "execute_result"
    }
   ],
   "source": [
    "os.getcwd()"
   ]
  },
  {
   "cell_type": "markdown",
   "metadata": {},
   "source": [
    "|Read dataset|\n",
    "|---|"
   ]
  },
  {
   "cell_type": "code",
   "execution_count": 22,
   "metadata": {},
   "outputs": [],
   "source": [
    "df = pd.read_excel(\"./dataset/sentiment.xlsx\", engine=\"openpyxl\", index_col=False)\n",
    "df = df.iloc[: , 1:] # drop column of indices"
   ]
  },
  {
   "cell_type": "code",
   "execution_count": 23,
   "metadata": {},
   "outputs": [
    {
     "data": {
      "text/html": [
       "<div>\n",
       "<style scoped>\n",
       "    .dataframe tbody tr th:only-of-type {\n",
       "        vertical-align: middle;\n",
       "    }\n",
       "\n",
       "    .dataframe tbody tr th {\n",
       "        vertical-align: top;\n",
       "    }\n",
       "\n",
       "    .dataframe thead th {\n",
       "        text-align: right;\n",
       "    }\n",
       "</style>\n",
       "<table border=\"1\" class=\"dataframe\">\n",
       "  <thead>\n",
       "    <tr style=\"text-align: right;\">\n",
       "      <th></th>\n",
       "      <th>Sentence</th>\n",
       "      <th>Category</th>\n",
       "    </tr>\n",
       "  </thead>\n",
       "  <tbody>\n",
       "    <tr>\n",
       "      <th>0</th>\n",
       "      <td>KDM from large NCI NCN center said they are us...</td>\n",
       "      <td>Recommend</td>\n",
       "    </tr>\n",
       "    <tr>\n",
       "      <th>1</th>\n",
       "      <td>twice as many Swiss oncologists voting for use...</td>\n",
       "      <td>Recommend</td>\n",
       "    </tr>\n",
       "    <tr>\n",
       "      <th>2</th>\n",
       "      <td>Pembrolizumab + Axitinib and Avelumab + Axitin...</td>\n",
       "      <td>Recommend</td>\n",
       "    </tr>\n",
       "    <tr>\n",
       "      <th>3</th>\n",
       "      <td>Identified current policy inconsistencies with...</td>\n",
       "      <td>Recommend</td>\n",
       "    </tr>\n",
       "    <tr>\n",
       "      <th>4</th>\n",
       "      <td>His go to parp is olaparib because he feels th...</td>\n",
       "      <td>Recommend</td>\n",
       "    </tr>\n",
       "    <tr>\n",
       "      <th>...</th>\n",
       "      <td>...</td>\n",
       "      <td>...</td>\n",
       "    </tr>\n",
       "    <tr>\n",
       "      <th>28394</th>\n",
       "      <td>Several patients who requested prior authoriza...</td>\n",
       "      <td>General</td>\n",
       "    </tr>\n",
       "    <tr>\n",
       "      <th>28395</th>\n",
       "      <td>Not really, I guess we still have much to unde...</td>\n",
       "      <td>General</td>\n",
       "    </tr>\n",
       "    <tr>\n",
       "      <th>28396</th>\n",
       "      <td>Insights from one top SL: PD L1 testing in cis...</td>\n",
       "      <td>General</td>\n",
       "    </tr>\n",
       "    <tr>\n",
       "      <th>28397</th>\n",
       "      <td>HR is not low</td>\n",
       "      <td>General</td>\n",
       "    </tr>\n",
       "    <tr>\n",
       "      <th>28398</th>\n",
       "      <td>Expected to roll out in the June July time frame</td>\n",
       "      <td>General</td>\n",
       "    </tr>\n",
       "  </tbody>\n",
       "</table>\n",
       "<p>28399 rows × 2 columns</p>\n",
       "</div>"
      ],
      "text/plain": [
       "                                                Sentence   Category\n",
       "0      KDM from large NCI NCN center said they are us...  Recommend\n",
       "1      twice as many Swiss oncologists voting for use...  Recommend\n",
       "2      Pembrolizumab + Axitinib and Avelumab + Axitin...  Recommend\n",
       "3      Identified current policy inconsistencies with...  Recommend\n",
       "4      His go to parp is olaparib because he feels th...  Recommend\n",
       "...                                                  ...        ...\n",
       "28394  Several patients who requested prior authoriza...    General\n",
       "28395  Not really, I guess we still have much to unde...    General\n",
       "28396  Insights from one top SL: PD L1 testing in cis...    General\n",
       "28397                                      HR is not low    General\n",
       "28398   Expected to roll out in the June July time frame    General\n",
       "\n",
       "[28399 rows x 2 columns]"
      ]
     },
     "execution_count": 23,
     "metadata": {},
     "output_type": "execute_result"
    }
   ],
   "source": [
    "df"
   ]
  },
  {
   "cell_type": "code",
   "execution_count": 24,
   "metadata": {},
   "outputs": [
    {
     "data": {
      "text/plain": [
       "General          24261\n",
       "Recommend         4040\n",
       "Not Recommend       98\n",
       "Name: Category, dtype: int64"
      ]
     },
     "execution_count": 24,
     "metadata": {},
     "output_type": "execute_result"
    }
   ],
   "source": [
    "df.Category.value_counts()"
   ]
  },
  {
   "cell_type": "code",
   "execution_count": 25,
   "metadata": {},
   "outputs": [],
   "source": [
    "df = df.dropna(axis=0)"
   ]
  },
  {
   "cell_type": "markdown",
   "metadata": {},
   "source": [
    "|Sample equal sized sets from dataset|\n",
    "|---|"
   ]
  },
  {
   "cell_type": "code",
   "execution_count": 26,
   "metadata": {},
   "outputs": [],
   "source": [
    "df_0 = df[df['Category'] == 'Recommend'].sample(frac=1)\n",
    "df_1 = df[df['Category'] == 'Not Recommend'].sample(frac=1)\n",
    "df_2 = df[df['Category'] == 'General'].sample(frac=1)\n",
    "\n",
    "# we want a balanced set for training against - there are 7072 `0` examples\n",
    "sample_size = 98\n",
    "\n",
    "data = pd.concat([df_0.head(sample_size), df_1.head(sample_size), df_2.head(sample_size)]).sample(frac=1)"
   ]
  },
  {
   "cell_type": "code",
   "execution_count": 27,
   "metadata": {},
   "outputs": [
    {
     "data": {
      "text/plain": [
       "Not Recommend    98\n",
       "Recommend        98\n",
       "General          98\n",
       "Name: Category, dtype: int64"
      ]
     },
     "execution_count": 27,
     "metadata": {},
     "output_type": "execute_result"
    }
   ],
   "source": [
    "data.Category.value_counts()"
   ]
  },
  {
   "cell_type": "markdown",
   "metadata": {},
   "source": [
    "|Load, edit and save pickles (run once)|\n",
    "|---|"
   ]
  },
  {
   "cell_type": "code",
   "execution_count": 28,
   "metadata": {},
   "outputs": [],
   "source": [
    "with open(\"./pickle/INCLUDE_ENTITY_DICT.pickle\",'rb') as infile:\n",
    "    drugs_list_list = pickle.load(infile)\n",
    "# read pickle file\n",
    "with open(\"./pickle/remove_drugs.pkl\",'rb') as infile:\n",
    "    remove_list = pickle.load(infile)"
   ]
  },
  {
   "cell_type": "code",
   "execution_count": 31,
   "metadata": {},
   "outputs": [],
   "source": [
    "drugs_list_list['cancer'] = 'DISEASE'\n",
    "drugs_list_list['rcc'] = 'DISEASE'\n",
    "drugs_list_list['mesothelioma'] = 'DISEASE'\n",
    "drugs_list_list['chemo'] = 'CHEMICAL'\n",
    "drugs_list_list['chemotherapy'] = 'CHEMICAL'\n",
    "\n",
    "disease = []\n",
    "drug_surface_to_canonical = []\n",
    "for i in drugs_list_list:\n",
    "  if drugs_list_list[i]=='DISEASE':\n",
    "    disease.append(i.lower())\n",
    "  if drugs_list_list[i]=='CHEMICAL':\n",
    "    drug_surface_to_canonical.append(i.lower())\n",
    "\n",
    "drug_surface_to_canonical = list(set(drug_surface_to_canonical) - set(remove_list))\n",
    "\n",
    "with open('./pickle/drug_surface_to_canonical.pkl', 'wb') as fp:\n",
    "    pickle.dump(drug_surface_to_canonical, fp)"
   ]
  },
  {
   "cell_type": "markdown",
   "metadata": {},
   "source": [
    "|Load final pickle (normal use)|\n",
    "|---|"
   ]
  },
  {
   "cell_type": "code",
   "execution_count": null,
   "metadata": {},
   "outputs": [],
   "source": [
    "with open('./pickle/drug_surface_to_canonical.pkl', 'wb') as infile:\n",
    "    drug_surface_to_canonical =  pickle.load(infile)"
   ]
  },
  {
   "cell_type": "markdown",
   "metadata": {},
   "source": [
    "|Drug name & disease masking|\n",
    "|---|"
   ]
  },
  {
   "cell_type": "code",
   "execution_count": 32,
   "metadata": {},
   "outputs": [],
   "source": [
    "mask_df = data.copy()\n",
    "for row in mask_df.index:\n",
    "    line = mask_df.Sentence[row].lower()\n",
    "    sent = \"\"\n",
    "    for word in word_tokenize(line):\n",
    "        if word in drug_surface_to_canonical:\n",
    "            word = \"DRUG\"\n",
    "        elif word in disease:\n",
    "            word = \"DISEASE\"\n",
    "        sent += f\"{word} \"\n",
    "    mask_df.Sentence[row] = sent"
   ]
  },
  {
   "cell_type": "code",
   "execution_count": 33,
   "metadata": {},
   "outputs": [
    {
     "data": {
      "text/plain": [
       "Not Recommend    98\n",
       "Recommend        98\n",
       "General          98\n",
       "Name: Category, dtype: int64"
      ]
     },
     "execution_count": 33,
     "metadata": {},
     "output_type": "execute_result"
    }
   ],
   "source": [
    "mask_df.Category.value_counts()"
   ]
  },
  {
   "cell_type": "markdown",
   "metadata": {},
   "source": [
    "|Train & test data splitting|\n",
    "|---|"
   ]
  },
  {
   "cell_type": "code",
   "execution_count": 97,
   "metadata": {},
   "outputs": [],
   "source": [
    "X_train, X_test, y_train, y_test = train_test_split(mask_df.Sentence, mask_df.Category, test_size=0.05, random_state=16, shuffle=True)"
   ]
  },
  {
   "cell_type": "code",
   "execution_count": 98,
   "metadata": {},
   "outputs": [],
   "source": [
    "text_clf = Pipeline([('vect', CountVectorizer()),\n",
    "...                      ('tfidf', TfidfTransformer()),\n",
    "...                      ('clf', MultinomialNB()),\n",
    "... ])"
   ]
  },
  {
   "cell_type": "code",
   "execution_count": 99,
   "metadata": {},
   "outputs": [],
   "source": [
    "text_clf = text_clf.fit(X_train, y_train)"
   ]
  },
  {
   "cell_type": "code",
   "execution_count": 100,
   "metadata": {},
   "outputs": [
    {
     "data": {
      "text/plain": [
       "array(['Not Recommend', 'Not Recommend', 'Not Recommend', 'Not Recommend',\n",
       "       'Not Recommend', 'Recommend', 'Not Recommend', 'Not Recommend',\n",
       "       'Not Recommend', 'Recommend', 'Not Recommend', 'Recommend',\n",
       "       'Not Recommend', 'Recommend', 'Not Recommend'], dtype='<U13')"
      ]
     },
     "execution_count": 100,
     "metadata": {},
     "output_type": "execute_result"
    }
   ],
   "source": [
    "text_clf.predict(X_test)"
   ]
  },
  {
   "cell_type": "code",
   "execution_count": 103,
   "metadata": {},
   "outputs": [
    {
     "name": "stdout",
     "output_type": "stream",
     "text": [
      "accuracy:   0.333\n"
     ]
    }
   ],
   "source": [
    "\n",
    "\n",
    "y_pred = text_clf.predict(X_test)\n",
    "\n",
    "# compute the performance measures\n",
    "score1 = metrics.accuracy_score(y_test, y_pred)\n",
    "print(\"accuracy:   %0.3f\" % score1)"
   ]
  },
  {
   "cell_type": "code",
   "execution_count": 9,
   "metadata": {},
   "outputs": [],
   "source": [
    "# pickle.dump(text_clf, open('model1', 'wb'))\n",
    "with open(\"model1\",'rb') as infile:\n",
    "    text_clf = pickle.load(infile)"
   ]
  },
  {
   "cell_type": "code",
   "execution_count": 106,
   "metadata": {},
   "outputs": [],
   "source": [
    "text_clf_svm = Pipeline([('vect', CountVectorizer()),\n",
    "...                      ('tfidf', TfidfTransformer()),\n",
    "...                      ('clf-svm', SGDClassifier(loss='hinge', penalty='l2',alpha=1e-3, n_jobs=5, random_state=42)),\n",
    "... ])"
   ]
  },
  {
   "cell_type": "code",
   "execution_count": 107,
   "metadata": {},
   "outputs": [],
   "source": [
    "text_clf_svm = text_clf_svm.fit(X_train,y_train)"
   ]
  },
  {
   "cell_type": "code",
   "execution_count": 108,
   "metadata": {},
   "outputs": [],
   "source": [
    "y_predict = text_clf_svm.predict(X_test)"
   ]
  },
  {
   "cell_type": "code",
   "execution_count": 109,
   "metadata": {},
   "outputs": [
    {
     "name": "stdout",
     "output_type": "stream",
     "text": [
      "accuracy:   0.667\n"
     ]
    }
   ],
   "source": [
    "score1 = metrics.accuracy_score(y_test, y_predict)\n",
    "print(\"accuracy:   %0.3f\" % score1)"
   ]
  },
  {
   "cell_type": "code",
   "execution_count": 10,
   "metadata": {},
   "outputs": [],
   "source": [
    "# pickle.dump(text_clf_svm, open('model_svm', 'wb'))\n",
    "with open(\"model_svm\",'rb') as infile:\n",
    "    text_clf_svm = pickle.load(infile)"
   ]
  },
  {
   "cell_type": "code",
   "execution_count": 13,
   "metadata": {},
   "outputs": [
    {
     "name": "stderr",
     "output_type": "stream",
     "text": [
      "C:\\Users\\harikrishna.p\\AppData\\Local\\Temp\\ipykernel_4112\\3191289688.py:2: SettingWithCopyWarning: \n",
      "A value is trying to be set on a copy of a slice from a DataFrame.\n",
      "Try using .loc[row_indexer,col_indexer] = value instead\n",
      "\n",
      "See the caveats in the documentation: https://pandas.pydata.org/pandas-docs/stable/user_guide/indexing.html#returning-a-view-versus-a-copy\n",
      "  ddf['Masked_Sentence'] = ddf.Sentence\n"
     ]
    }
   ],
   "source": [
    "ddf = df.tail(500)\n",
    "ddf['Masked_Sentence'] = ddf.Sentence\n"
   ]
  },
  {
   "cell_type": "code",
   "execution_count": 15,
   "metadata": {},
   "outputs": [
    {
     "data": {
      "text/html": [
       "<div>\n",
       "<style scoped>\n",
       "    .dataframe tbody tr th:only-of-type {\n",
       "        vertical-align: middle;\n",
       "    }\n",
       "\n",
       "    .dataframe tbody tr th {\n",
       "        vertical-align: top;\n",
       "    }\n",
       "\n",
       "    .dataframe thead th {\n",
       "        text-align: right;\n",
       "    }\n",
       "</style>\n",
       "<table border=\"1\" class=\"dataframe\">\n",
       "  <thead>\n",
       "    <tr style=\"text-align: right;\">\n",
       "      <th></th>\n",
       "      <th>Sentence</th>\n",
       "      <th>Category</th>\n",
       "      <th>Masked_Sentence</th>\n",
       "    </tr>\n",
       "  </thead>\n",
       "  <tbody>\n",
       "    <tr>\n",
       "      <th>27899</th>\n",
       "      <td>He would be interested in conducting such a st...</td>\n",
       "      <td>General</td>\n",
       "      <td>He would be interested in conducting such a st...</td>\n",
       "    </tr>\n",
       "    <tr>\n",
       "      <th>27900</th>\n",
       "      <td>The remaining patients, will be the best to re...</td>\n",
       "      <td>General</td>\n",
       "      <td>The remaining patients, will be the best to re...</td>\n",
       "    </tr>\n",
       "    <tr>\n",
       "      <th>27901</th>\n",
       "      <td>Focusing on areas where majority of patients t...</td>\n",
       "      <td>General</td>\n",
       "      <td>Focusing on areas where majority of patients t...</td>\n",
       "    </tr>\n",
       "    <tr>\n",
       "      <th>27902</th>\n",
       "      <td>The key of sucess for this NMIBC trials is to ...</td>\n",
       "      <td>General</td>\n",
       "      <td>The key of sucess for this NMIBC trials is to ...</td>\n",
       "    </tr>\n",
       "    <tr>\n",
       "      <th>27903</th>\n",
       "      <td>This is significant and encouraging for patien...</td>\n",
       "      <td>General</td>\n",
       "      <td>This is significant and encouraging for patien...</td>\n",
       "    </tr>\n",
       "    <tr>\n",
       "      <th>...</th>\n",
       "      <td>...</td>\n",
       "      <td>...</td>\n",
       "      <td>...</td>\n",
       "    </tr>\n",
       "    <tr>\n",
       "      <th>28394</th>\n",
       "      <td>Several patients who requested prior authoriza...</td>\n",
       "      <td>General</td>\n",
       "      <td>Several patients who requested prior authoriza...</td>\n",
       "    </tr>\n",
       "    <tr>\n",
       "      <th>28395</th>\n",
       "      <td>Not really, I guess we still have much to unde...</td>\n",
       "      <td>General</td>\n",
       "      <td>Not really, I guess we still have much to unde...</td>\n",
       "    </tr>\n",
       "    <tr>\n",
       "      <th>28396</th>\n",
       "      <td>Insights from one top SL: PD L1 testing in cis...</td>\n",
       "      <td>General</td>\n",
       "      <td>Insights from one top SL: PD L1 testing in cis...</td>\n",
       "    </tr>\n",
       "    <tr>\n",
       "      <th>28397</th>\n",
       "      <td>HR is not low</td>\n",
       "      <td>General</td>\n",
       "      <td>HR is not low</td>\n",
       "    </tr>\n",
       "    <tr>\n",
       "      <th>28398</th>\n",
       "      <td>Expected to roll out in the June July time frame</td>\n",
       "      <td>General</td>\n",
       "      <td>Expected to roll out in the June July time frame</td>\n",
       "    </tr>\n",
       "  </tbody>\n",
       "</table>\n",
       "<p>500 rows × 3 columns</p>\n",
       "</div>"
      ],
      "text/plain": [
       "                                                Sentence Category  \\\n",
       "27899  He would be interested in conducting such a st...  General   \n",
       "27900  The remaining patients, will be the best to re...  General   \n",
       "27901  Focusing on areas where majority of patients t...  General   \n",
       "27902  The key of sucess for this NMIBC trials is to ...  General   \n",
       "27903  This is significant and encouraging for patien...  General   \n",
       "...                                                  ...      ...   \n",
       "28394  Several patients who requested prior authoriza...  General   \n",
       "28395  Not really, I guess we still have much to unde...  General   \n",
       "28396  Insights from one top SL: PD L1 testing in cis...  General   \n",
       "28397                                      HR is not low  General   \n",
       "28398   Expected to roll out in the June July time frame  General   \n",
       "\n",
       "                                         Masked_Sentence  \n",
       "27899  He would be interested in conducting such a st...  \n",
       "27900  The remaining patients, will be the best to re...  \n",
       "27901  Focusing on areas where majority of patients t...  \n",
       "27902  The key of sucess for this NMIBC trials is to ...  \n",
       "27903  This is significant and encouraging for patien...  \n",
       "...                                                  ...  \n",
       "28394  Several patients who requested prior authoriza...  \n",
       "28395  Not really, I guess we still have much to unde...  \n",
       "28396  Insights from one top SL: PD L1 testing in cis...  \n",
       "28397                                      HR is not low  \n",
       "28398   Expected to roll out in the June July time frame  \n",
       "\n",
       "[500 rows x 3 columns]"
      ]
     },
     "execution_count": 15,
     "metadata": {},
     "output_type": "execute_result"
    }
   ],
   "source": [
    "ddf"
   ]
  },
  {
   "cell_type": "code",
   "execution_count": 16,
   "metadata": {},
   "outputs": [
    {
     "name": "stderr",
     "output_type": "stream",
     "text": [
      "C:\\Users\\harikrishna.p\\AppData\\Local\\Temp\\ipykernel_4112\\2216185627.py:10: SettingWithCopyWarning: \n",
      "A value is trying to be set on a copy of a slice from a DataFrame\n",
      "\n",
      "See the caveats in the documentation: https://pandas.pydata.org/pandas-docs/stable/user_guide/indexing.html#returning-a-view-versus-a-copy\n",
      "  ddf.Masked_Sentence[row] = sent\n"
     ]
    }
   ],
   "source": [
    "for row in ddf.index:\n",
    "    line = ddf.Masked_Sentence[row].lower()\n",
    "    sent = \"\"\n",
    "    for word in word_tokenize(line):\n",
    "        if word in drug_surface_to_canonical:\n",
    "            word = \"DRUG\"\n",
    "        elif word in disease:\n",
    "            word = \"DISEASE\"\n",
    "        sent += f\"{word} \"\n",
    "    ddf.Masked_Sentence[row] = sent"
   ]
  },
  {
   "cell_type": "code",
   "execution_count": 18,
   "metadata": {},
   "outputs": [
    {
     "name": "stderr",
     "output_type": "stream",
     "text": [
      "C:\\Users\\harikrishna.p\\AppData\\Local\\Temp\\ipykernel_4112\\3998135253.py:4: SettingWithCopyWarning: \n",
      "A value is trying to be set on a copy of a slice from a DataFrame.\n",
      "Try using .loc[row_indexer,col_indexer] = value instead\n",
      "\n",
      "See the caveats in the documentation: https://pandas.pydata.org/pandas-docs/stable/user_guide/indexing.html#returning-a-view-versus-a-copy\n",
      "  gh[\"Predicted\"] = y1\n",
      "C:\\Users\\harikrishna.p\\AppData\\Local\\Temp\\ipykernel_4112\\3998135253.py:5: SettingWithCopyWarning: \n",
      "A value is trying to be set on a copy of a slice from a DataFrame.\n",
      "Try using .loc[row_indexer,col_indexer] = value instead\n",
      "\n",
      "See the caveats in the documentation: https://pandas.pydata.org/pandas-docs/stable/user_guide/indexing.html#returning-a-view-versus-a-copy\n",
      "  gh['SVM_Predicted'] = y2\n"
     ]
    }
   ],
   "source": [
    "y1 = text_clf.predict(list(ddf.Masked_Sentence))\n",
    "y2 = text_clf_svm.predict(list(ddf.Masked_Sentence))\n",
    "gh = ddf\n",
    "gh[\"Predicted\"] = y1\n",
    "gh['SVM_Predicted'] = y2\n",
    "gh.to_excel('Predicted_Results.xlsx',index=False)"
   ]
  },
  {
   "cell_type": "code",
   "execution_count": null,
   "metadata": {},
   "outputs": [],
   "source": []
  }
 ],
 "metadata": {
  "interpreter": {
   "hash": "b979aec8ac3ffd2dd0d09bf3eb8667eca0a9ce2e5a07f9c6f6a510ff0715533b"
  },
  "kernelspec": {
   "display_name": "Python 3.10.4 ('analyzer': venv)",
   "language": "python",
   "name": "python3"
  },
  "language_info": {
   "codemirror_mode": {
    "name": "ipython",
    "version": 3
   },
   "file_extension": ".py",
   "mimetype": "text/x-python",
   "name": "python",
   "nbconvert_exporter": "python",
   "pygments_lexer": "ipython3",
   "version": "3.10.4"
  },
  "orig_nbformat": 4
 },
 "nbformat": 4,
 "nbformat_minor": 2
}
